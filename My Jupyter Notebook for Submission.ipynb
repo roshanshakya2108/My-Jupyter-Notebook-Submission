{
  "metadata": {
    "language_info": {
      "codemirror_mode": {
        "name": "python",
        "version": 3
      },
      "file_extension": ".py",
      "mimetype": "text/x-python",
      "name": "python",
      "nbconvert_exporter": "python",
      "pygments_lexer": "ipython3",
      "version": "3.8"
    },
    "kernelspec": {
      "name": "python",
      "display_name": "Pyolite",
      "language": "python"
    }
  },
  "nbformat_minor": 4,
  "nbformat": 4,
  "cells": [
    {
      "cell_type": "markdown",
      "source": "# My Jupyter Notebook on IBM Watson Studio",
      "metadata": {}
    },
    {
      "cell_type": "markdown",
      "source": "**Roshan Kumar Shakya** \n\"Roshan Kumar Shakya, I'm currently a student!\"",
      "metadata": {}
    },
    {
      "cell_type": "markdown",
      "source": "*I am interested in data science because I wanna to transform my career as a Data Scientist.*",
      "metadata": {}
    },
    {
      "cell_type": "markdown",
      "source": "### My code is supposed to Addition of two numbers :",
      "metadata": {}
    },
    {
      "cell_type": "code",
      "source": "# This program adds two numbers\n\nnum1 = 1.5\nnum2 = 6.3\n\n# Add two numbers\nsum = num1 + num2\n\n# Display the sum\nprint('The sum of {0} and {1} is {2}'.format(num1, num2, sum))\n",
      "metadata": {
        "trusted": true
      },
      "execution_count": 1,
      "outputs": [
        {
          "name": "stdout",
          "text": "The sum of 1.5 and 6.3 is 7.8\n",
          "output_type": "stream"
        }
      ]
    },
    {
      "cell_type": "markdown",
      "source": "Inline `code` has `back-ticks around` it.\n\n\n[Google](https://www.google.com \"Google's Homepage\")\n\n\nStrikethrough uses two tildes. ~~Scratch this.~~\n\n\n| Student's Name | Batch | Time |\n|----------------|-------|------|\n| Cell | Cell | Cell ",
      "metadata": {}
    },
    {
      "cell_type": "code",
      "source": "",
      "metadata": {},
      "execution_count": null,
      "outputs": []
    }
  ]
}